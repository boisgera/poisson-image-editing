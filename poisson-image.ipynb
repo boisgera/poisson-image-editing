{
 "cells": [
  {
   "cell_type": "markdown",
   "metadata": {},
   "source": [
    "Voici le notebook sur lequel nous allons expliquer la démarche derrière l'édition d'images. \n",
    "En reprenant les notations du document -- http://eul.ink/complex-analysis/Poisson%20Image%20Editing/ -- nous cherchons à résoudre:\n",
    "$$\\begin{align*}\n",
    "\\Delta \\psi &= \\Delta \\phi \\; sur \\; D\\\\\n",
    "\\psi_{|\\partial{D}} &= \\phi_{|\\partial{D}}\n",
    "\\end{align*}\n",
    "$$\n",
    "Discrétisons les fonctions proposées. On crée une grille avec $N = m*n$ points pour répresenter $D \\in \\mathbf{R}^2 $.\n",
    "Soient $\\{x_i, x_j, i \\in [1,m], j \\in [1,n]\\}$ décrivant cette grille, avec les pas $ h_x = x_{i+1} - x_i $, et  $ h_y = x_{j+1} - x_j $. Notons $h = max(h_x,h_y)$\n",
    "Puis on pose:\n",
    "$$\n",
    "u = \n",
    "\\begin{pmatrix}\n",
    "\\psi_{1,1}\\\\\n",
    "\\psi_{2,1}\\\\\n",
    "\\vdots\\\\\n",
    "\\psi_{m,1}\\\\\n",
    "\\psi_{1,2}\\\\\n",
    "\\psi_{2,2}\\\\\n",
    "\\vdots\\\\\n",
    "\\psi_{m,2}\\\\\n",
    "\\vdots\\\\\n",
    "\\psi_{1,n}\\\\\n",
    "\\vdots\\\\\n",
    "\\psi_{m,n}\\\\\n",
    "\\end{pmatrix} \\in \\mathbf{R}^{N}\n",
    "$$\n",
    "u est le vecteur que l'on cherche à déterminer\n",
    "On pose de la même manière:\n",
    "$$t = \n",
    "\\begin{pmatrix}\n",
    "\\phi_{1,1}\\\\\n",
    "\\phi_{2,1}\\\\\n",
    "\\vdots\\\\\n",
    "\\phi_{m,1}\\\\\n",
    "\\phi_{1,2}\\\\\n",
    "\\phi_{2,2}\\\\\n",
    "\\vdots\\\\\n",
    "\\phi_{m,2}\\\\\n",
    "\\vdots\\\\\n",
    "\\phi_{1,n}\\\\\n",
    "\\vdots\\\\\n",
    "\\phi_{m,n}\\\\\n",
    "\\end{pmatrix} \\in \\mathbf{R}^{N}\n",
    "$$\n",
    "Enfin, on explicite l'opérateur Laplacien: \n",
    "Lorsque la discrétisation est assez fine, pour une fonction deux fois différentiable u, \n",
    "$$\\begin{align}\n",
    "\\Delta \\psi(x_i,x_j) &= \\frac{\\partial^2 \\psi}{\\partial x^2}(x_i,x_j)+\\frac{\\partial^2 \\psi}{\\partial y^2}(x_i,x_j)\n",
    "\\end{align}\n",
    "$$\n",
    "Or, pour une fonction f quelconque, on a les approximations suivantes\n",
    "\n",
    "$$\\begin{align*}\n",
    "f(x_{i+1}) &= f(x_{i}) + f'(x_{i})h + f''(x_i)\\frac{h^2}{2} + O(h^4) \\\\\n",
    "f(x_{i-1}) &= f(x_{i}) - f'(x_{i})h + f''(x_i)\\frac{h^2}{2} + O(h^4) \\\\\n",
    "\\end{align*}\n",
    "$$\n",
    "Ie: \n",
    "$$\\begin{align*}\n",
    "f(x_{i+1}) + f(x_{i-1}) &= 2f(x_{i}) +  f''(x_i)h^2 + O(h^2) \\\\\n",
    "\\frac{f(x_{i+1}) + f(x_{i-1}) - 2f(x_{i}) }{h^2} &= f''(x_i) + O(h^2)\\\\\n",
    "\\end{align*}\n",
    "$$\n",
    "Puis enfin, en 2D, pour la fonction Psi par exemple: \n",
    "$$\\begin{align*}\n",
    "\\frac{\\psi(x_{i+1,j}) + \\psi(x_{i-1,j})+\\psi(x_{i,j+1}) + \\psi(x_{i,j-1}) - 4\\psi(x_{i,j})}{h^2} &= \\Delta \\psi(x_{i,j}) + O(h^2)\\\\\n",
    "\\end{align*}\n",
    "$$\n",
    "On va donc résoudre, en pratique \n",
    "$$\\begin{align*}\n",
    "A \\mathbf{u} &= A \\mathbf{t} \\; sur \\; D\\\\\n",
    "\\mathbf{u}_{|\\partial{D}} &= \\mathbf{t}_{|\\partial{D}}\n",
    "\\end{align*}\n",
    "$$\n",
    "A est l'opérateur laplacien: \n",
    "$$ \n",
    "A = \n",
    "\\begin{pmatrix}\n",
    "-4 & 1 & & & &  1 & & & & & & & & &  & & & & & \\\\\n",
    "1 & -4 & 1  & & &  & 1 & & & &  & & & &  &  & & & & \\\\\n",
    " &\\ddots & \\ddots & & &  &  &\\ddots & & &  &  & & &  &  & & & & \\\\\n",
    " & & 1 & -4 & &  &  & & 1  & &  &  & & &  &  & & & & \\\\\n",
    "1&  & & & &  -4 & 1 & & & & 1 & & & &  & & & & & \\\\\n",
    " & 1 & & & &  1 & -4 & 1 & & &  & 1 & & &  & & & & & \\\\\n",
    " &  & \\ddots & & &   & \\ddots & \\ddots & & &  &  &\\ddots & &  & & & & & \\\\\n",
    " &  &  & 1 & &   &  & 1 & -4& &  &  & & 1 &  & & & & & \\\\\n",
    "  &  &  &  & &   &  &  & \\ddots& &  &  & &  &  & & & & & \\\\\n",
    "   &  &  &  & &   &  &  & & \\ddots &  &  & &  &  & & & & & \\\\\n",
    "\\end{pmatrix} \\in \\mathbf{R}^{N*N}\n",
    "$$\n",
    "Notons \n",
    "$$ \n",
    "D = \n",
    "\\begin{pmatrix}\n",
    "-4 & 1 & & & &\\\\\n",
    "1 & -4 & 1 & & &\\\\\n",
    " & \\ddots & \\ddots & \\ddots& &\\\\\n",
    "  & & \\ddots & \\ddots&  1 & \\\\\n",
    "    & & & 1 &  -4 & \\\\\n",
    "\\end{pmatrix} \\in \\mathbf{R}^{m*m}\n",
    "$$\n",
    "Et notons\n",
    "$$ \n",
    "I = \n",
    "\\begin{pmatrix}\n",
    "1 & & & &\\\\\n",
    "& 1 &  & &\\\\\n",
    " & & \\ddots &\\\\\n",
    " & & &  1\\\\\n",
    "\\end{pmatrix} \\in \\mathbf{R}^{m*m}\n",
    "$$\n",
    "Alors A est une matrice par blocs, composée par les blocs $D$ et $I$: \n",
    "$$ \n",
    "A = \\begin{pmatrix}\n",
    "D & I & & & &\\\\\n",
    "I &D& I & & &\\\\\n",
    " & \\ddots & \\ddots & \\ddots& &\\\\\n",
    "  & & \\ddots & \\ddots&  I & \\\\\n",
    "    & & & I &  D & \\\\\n",
    "\\end{pmatrix} \\in \\mathbf{R}^{N*N}\n",
    "$$\n",
    "Il faut maintenant prendre en compte la contrainte sur les bords\n",
    "$$\\psi_{|\\partial{D}} = \\phi_{|\\partial{D}} $$\n",
    "Pour tout indice d'ordre lexicographique $ k = i*m + j $ désignant un point $u_k = \\psi_{x_i,x_j} $ tel que $u_k \\in \\partial{D}$, on va imposer la contrainte:\n",
    "$$ \\begin{align*}\n",
    "\\forall l \\;!= \\;j,\\; a_{i*m+l} &= 0 \\\\\n",
    "a_{k} = 1\n",
    "\\end{align*}\n",
    "$$\n",
    "Ceci empêche la matrice d'être symétrique puisqu'elle ressemble alors à:\n",
    "$$A = \\begin{pmatrix}\n",
    "I &   & & & &\\\\\n",
    "I' &D'& I' & & &\\\\\n",
    " & \\ddots & \\ddots & \\ddots& &\\\\\n",
    "  & & \\ddots & \\ddots&  I' & \\\\\n",
    "    & & &  &  I & \\\\\n",
    "\\end{pmatrix} \\in \\mathbf{R}^{N*N}\n",
    "$$\n",
    "Si elle n'est pas inversible, nous pourrons toujours ajouter les termes qui manquent pour la rendre symétrique, et éventuellement ajouter un facteur à la matrice identité pour imposer la contrainte"
   ]
  },
  {
   "cell_type": "markdown",
   "metadata": {},
   "source": [
    "TO DO:\n",
    "* make mask function\n",
    "* make laplacian function\n",
    "*\n"
   ]
  },
  {
   "cell_type": "markdown",
   "metadata": {},
   "source": [
    "from PIL import image\n",
    "import numpy as np"
   ]
  },
  {
   "cell_type": "code",
   "execution_count": 4,
   "metadata": {},
   "outputs": [],
   "source": [
    "from PIL import Image\n",
    "import numpy as np\n",
    "import matplotlib.pyplot as plt"
   ]
  },
  {
   "cell_type": "code",
   "execution_count": 23,
   "metadata": {},
   "outputs": [
    {
     "name": "stdout",
     "output_type": "stream",
     "text": [
      "im2.shape=(11654721, 3)\n",
      "im2.shape=(11654721, 3)\n",
      "[51 51 51]\n",
      "[49 49 49]\n",
      "[47 47 47]\n",
      "[50 50 50]\n",
      "[54 54 54]\n",
      "[50 50 50]\n",
      "[48 48 48]\n",
      "[52 52 52]\n",
      "[54 54 54]\n",
      "[49 49 49]\n"
     ]
    },
    {
     "data": {
      "text/plain": [
       "<matplotlib.image.AxesImage at 0x7fc029164d60>"
      ]
     },
     "execution_count": 23,
     "metadata": {},
     "output_type": "execute_result"
    },
    {
     "data": {
      "image/png": "[encoded data removed]",
      "text/plain": [
       "<Figure size 432x288 with 1 Axes>"
      ]
     },
     "metadata": {
      "needs_background": "light"
     },
     "output_type": "display_data"
    }
   ],
   "source": [
    "im = Image.open(\"images/objects-final.jpeg\")\n",
    "plt.imshow(im)\n",
    "data = im.getdata()\n",
    "im2 = np.array(data)\n",
    "print(f\"{im2.shape=}\")\n",
    "im2[:] = im2.mean(axis = 1).reshape((-1,1))\n",
    "print(f\"{im2.shape=}\")\n",
    "im2.reshape((im.height, im.width, -1))\n",
    "\n",
    "for i in range(10):\n",
    "   print(im2[i])\n",
    "plt.imshow(im2)\n"
   ]
  },
  {
   "cell_type": "code",
   "execution_count": null,
   "metadata": {},
   "outputs": [],
   "source": []
  }
 ],
 "metadata": {
  "interpreter": {
   "hash": "bb5baa5cce08aa3e4ae11dd7c934541657b9814ee708e112b9382392af854128"
  },
  "kernelspec": {
   "display_name": "Python 3.9.7 ('rogue')",
   "language": "python",
   "name": "python3"
  },
  "language_info": {
   "codemirror_mode": {
    "name": "ipython",
    "version": 3
   },
   "file_extension": ".py",
   "mimetype": "text/x-python",
   "name": "python",
   "nbconvert_exporter": "python",
   "pygments_lexer": "ipython3",
   "version": "3.9.7"
  },
  "orig_nbformat": 4
 },
 "nbformat": 4,
 "nbformat_minor": 2
}
