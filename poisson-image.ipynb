{
 "cells": [
  {
   "cell_type": "markdown",
   "metadata": {},
   "source": [
    "Voici le notebook sur lequel nous allons expliquer la démarche derrière l'édition d'images. \n",
    "En reprenant les notations du document -- http://eul.ink/complex-analysis/Poisson%20Image%20Editing/ -- nous cherchons à résoudre:\n",
    "$$\\begin{align*}\n",
    "\\Delta \\psi &= \\Delta \\phi \\; sur \\; D\\\\\n",
    "\\psi_{|\\partial{D}} &= \\phi_{|\\partial{D}}\n",
    "\\end{align*}\n",
    "$$\n",
    "Discrétisons les fonctions proposées. On crée une grille avec $N = m*n$ points pour répresenter $D \\in \\mathbf{R}^2 $.\n",
    "Soient $\\{x_i, x_j, i \\in [1,m], j \\in [1,n]\\}$ décrivant cette grille, avec les pas $ h_x = x_{i+1} - x_i $, et  $ h_y = x_{j+1} - x_j $. Notons $h = max(h_x,h_y)$\n",
    "Puis on pose:\n",
    "$$\n",
    "u = \n",
    "\\begin{pmatrix}\n",
    "\\psi_{1,1}\\\\\n",
    "\\psi_{2,1}\\\\\n",
    "\\vdots\\\\\n",
    "\\psi_{m,1}\\\\\n",
    "\\psi_{1,2}\\\\\n",
    "\\psi_{2,2}\\\\\n",
    "\\vdots\\\\\n",
    "\\psi_{m,2}\\\\\n",
    "\\vdots\\\\\n",
    "\\psi_{1,n}\\\\\n",
    "\\vdots\\\\\n",
    "\\psi_{m,n}\\\\\n",
    "\\end{pmatrix} \\in \\mathbf{R}^{N}\n",
    "$$\n",
    "u est le vecteur que l'on cherche à déterminer\n",
    "On pose de la même manière:\n",
    "$$t = \n",
    "\\begin{pmatrix}\n",
    "\\phi_{1,1}\\\\\n",
    "\\phi_{2,1}\\\\\n",
    "\\vdots\\\\\n",
    "\\phi_{m,1}\\\\\n",
    "\\phi_{1,2}\\\\\n",
    "\\phi_{2,2}\\\\\n",
    "\\vdots\\\\\n",
    "\\phi_{m,2}\\\\\n",
    "\\vdots\\\\\n",
    "\\phi_{1,n}\\\\\n",
    "\\vdots\\\\\n",
    "\\phi_{m,n}\\\\\n",
    "\\end{pmatrix} \\in \\mathbf{R}^{N}\n",
    "$$\n",
    "Enfin, on explicite l'opérateur Laplacien: \n",
    "Lorsque la discrétisation est assez fine, pour une fonction deux fois différentiable u, \n",
    "$$\\begin{align}\n",
    "\\Delta \\psi(x_i,x_j) &= \\frac{\\partial^2 \\psi}{\\partial x^2}(x_i,x_j)+\\frac{\\partial^2 \\psi}{\\partial y^2}(x_i,x_j)\n",
    "\\end{align}\n",
    "$$\n",
    "Or, pour une fonction f quelconque, on a les approximations suivantes\n",
    "\n",
    "$$\\begin{align*}\n",
    "f(x_{i+1}) &= f(x_{i}) + f'(x_{i})h + f''(x_i)\\frac{h^2}{2} + O(h^4) \\\\\n",
    "f(x_{i-1}) &= f(x_{i}) - f'(x_{i})h + f''(x_i)\\frac{h^2}{2} + O(h^4) \\\\\n",
    "\\end{align*}\n",
    "$$\n",
    "Ie: \n",
    "$$\\begin{align*}\n",
    "f(x_{i+1}) + f(x_{i-1}) &= 2f(x_{i}) +  f''(x_i)h^2 + O(h^2) \\\\\n",
    "\\frac{f(x_{i+1}) + f(x_{i-1}) - 2f(x_{i}) }{h^2} &= f''(x_i) + O(h^2)\\\\\n",
    "\\end{align*}\n",
    "$$\n",
    "Puis enfin, en 2D, pour la fonction Psi par exemple: \n",
    "$$\\begin{align*}\n",
    "\\frac{\\psi(x_{i+1,j}) + \\psi(x_{i-1,j})+\\psi(x_{i,j+1}) + \\psi(x_{i,j-1}) - 4\\psi(x_{i,j})}{h^2} &= \\Delta \\psi(x_{i,j}) + O(h^2)\\\\\n",
    "\\end{align*}\n",
    "$$\n",
    "On va donc résoudre, en pratique \n",
    "$$\\begin{align*}\n",
    "A \\mathbf{u} &= A \\mathbf{t} \\; sur \\; D\\\\\n",
    "\\mathbf{u}_{|\\partial{D}} &= \\mathbf{t}_{|\\partial{D}}\n",
    "\\end{align*}\n",
    "$$\n",
    "A est l'opérateur laplacien: \n",
    "$$ \n",
    "A = \n",
    "\\begin{pmatrix}\n",
    "-4 & 1 & & & &  1 & & & & & & & & &  & & & & & \\\\\n",
    "1 & -4 & 1  & & &  & 1 & & & &  & & & &  &  & & & & \\\\\n",
    " &\\ddots & \\ddots & & &  &  &\\ddots & & &  &  & & &  &  & & & & \\\\\n",
    " & & 1 & -4 & &  &  & & 1  & &  &  & & &  &  & & & & \\\\\n",
    "1&  & & & &  -4 & 1 & & & & 1 & & & &  & & & & & \\\\\n",
    " & 1 & & & &  1 & -4 & 1 & & &  & 1 & & &  & & & & & \\\\\n",
    " &  & \\ddots & & &   & \\ddots & \\ddots & & &  &  &\\ddots & &  & & & & & \\\\\n",
    " &  &  & 1 & &   &  & 1 & -4& &  &  & & 1 &  & & & & & \\\\\n",
    "  &  &  &  & &   &  &  & \\ddots& &  &  & &  &  & & & & & \\\\\n",
    "   &  &  &  & &   &  &  & & \\ddots &  &  & &  &  & & & & & \\\\\n",
    "\\end{pmatrix} \\in \\mathbf{R}^{N*N}\n",
    "$$\n",
    "Notons \n",
    "$$ \n",
    "D = \n",
    "\\begin{pmatrix}\n",
    "-4 & 1 & & & &\\\\\n",
    "1 & -4 & 1 & & &\\\\\n",
    " & \\ddots & \\ddots & \\ddots& &\\\\\n",
    "  & & \\ddots & \\ddots&  1 & \\\\\n",
    "    & & & 1 &  -4 & \\\\\n",
    "\\end{pmatrix} \\in \\mathbf{R}^{m*m}\n",
    "$$\n",
    "Et notons\n",
    "$$ \n",
    "I = \n",
    "\\begin{pmatrix}\n",
    "1 & & & &\\\\\n",
    "& 1 &  & &\\\\\n",
    " & & \\ddots &\\\\\n",
    " & & &  1\\\\\n",
    "\\end{pmatrix} \\in \\mathbf{R}^{m*m}\n",
    "$$\n",
    "Alors A est une matrice par blocs, composée par les blocs $D$ et $I$: \n",
    "$$ \n",
    "A = \\begin{pmatrix}\n",
    "D & I & & & &\\\\\n",
    "I &D& I & & &\\\\\n",
    " & \\ddots & \\ddots & \\ddots& &\\\\\n",
    "  & & \\ddots & \\ddots&  I & \\\\\n",
    "    & & & I &  D & \\\\\n",
    "\\end{pmatrix} \\in \\mathbf{R}^{N*N}\n",
    "$$\n",
    "Il faut maintenant prendre en compte la contrainte sur les bords\n",
    "$$\\psi_{|\\partial{D}} = \\phi_{|\\partial{D}} $$\n",
    "Pour tout indice d'ordre lexicographique $ k = i*m + j $ désignant un point $u_k = \\psi_{x_i,x_j} $ tel que $u_k \\in \\partial{D}$, on va imposer la contrainte:\n",
    "$$ \\begin{align*}\n",
    "\\forall l \\;!= \\;j,\\; a_{i*m+l} &= 0 \\\\\n",
    "a_{k} = 1\n",
    "\\end{align*}\n",
    "$$\n",
    "Ceci empêche la matrice d'être symétrique puisqu'elle ressemble alors à:\n",
    "$$A = \\begin{pmatrix}\n",
    "I &   & & & &\\\\\n",
    "I' &D'& I' & & &\\\\\n",
    " & \\ddots & \\ddots & \\ddots& &\\\\\n",
    "  & & \\ddots & \\ddots&  I' & \\\\\n",
    "    & & &  &  I & \\\\\n",
    "\\end{pmatrix} \\in \\mathbf{R}^{N*N}\n",
    "$$\n",
    "Si elle n'est pas inversible, nous pourrons toujours ajouter les termes qui manquent pour la rendre symétrique, et éventuellement ajouter un facteur à la matrice identité pour imposer la contrainte"
   ]
  },
  {
   "cell_type": "markdown",
   "metadata": {},
   "source": [
    "TO DO:\n",
    "* make mask function\n",
    "* make laplacian function\n",
    "*\n"
   ]
  },
  {
   "cell_type": "markdown",
   "metadata": {},
   "source": [
    "from PIL import image\n",
    "import numpy as np"
   ]
  },
  {
   "cell_type": "code",
   "execution_count": 43,
   "metadata": {},
   "outputs": [],
   "source": [
    "from PIL import Image\n",
    "import numpy as np\n",
    "import matplotlib.pyplot as plt\n",
    "import logging\n",
    "logging.basicConfig(level = logging.INFO, format = \"%(threadName)s - %(message)s\")"
   ]
  },
  {
   "cell_type": "code",
   "execution_count": 44,
   "metadata": {},
   "outputs": [
    {
     "ename": "SyntaxError",
     "evalue": "invalid syntax (2325133120.py, line 21)",
     "output_type": "error",
     "traceback": [
      "\u001b[0;36m  Input \u001b[0;32mIn [44]\u001b[0;36m\u001b[0m\n\u001b[0;31m    def show_image(img):\u001b[0m\n\u001b[0m    ^\u001b[0m\n\u001b[0;31mSyntaxError\u001b[0m\u001b[0;31m:\u001b[0m invalid syntax\n"
     ]
    }
   ],
   "source": [
    "\n",
    "def convert_image_2Dgrey_not_3D(img):\n",
    "   \"\"\"Takes an image url (in 3D because RGB values), and returns the corresponding 2D grey image\"\"\"\n",
    "   if type(img) == np.ndarray and img.ndim == 2:\n",
    "      return img\n",
    "   if type(img) == np.ndarray and img.ndim == 3:\n",
    "      return img.mean(axis = 2)\n",
    "   im2 = np.array(img.getdata())\n",
    "   im2[:] = im2.mean(axis = 1).reshape((-1,1))\n",
    "   im2 = im2.reshape((img.height, img.width, 3))\n",
    "   return im2.mean(axis =  2)\n",
    "#make_image_2D_not_3D(\"image/objects.jpeg\")\n",
    "\n",
    "def convert_image_to_array3D(img:Image.Image):\n",
    "   return np.array(img.getdata()).reshape((img.height,img.width,3))\n",
    "\n",
    "def convert_array_2D_to_3D(A:np.ndarray):\n",
    "   arr = np.empty(shape = (*A.shape,3))\n",
    "   arr[::,::] = A[:\n",
    "   \n",
    "\n",
    "def show_image(img):\n",
    "   plt.imshow(np.array(img.getdata()).reshape((img.height,img.width,3)))\n"
   ]
  },
  {
   "cell_type": "code",
   "execution_count": 45,
   "metadata": {},
   "outputs": [
    {
     "ename": "ValueError",
     "evalue": "could not broadcast input array from shape (15,2) into shape (5,2,3)",
     "output_type": "error",
     "traceback": [
      "\u001b[0;31m---------------------------------------------------------------------------\u001b[0m",
      "\u001b[0;31mValueError\u001b[0m                                Traceback (most recent call last)",
      "\u001b[1;32m/Users/tanguy.renaudie/Documents/TanguyWorkMines/ProjetsInfo/poisson-image-editing/poisson-image.ipynb Cell 11'\u001b[0m in \u001b[0;36m<cell line: 2>\u001b[0;34m()\u001b[0m\n\u001b[1;32m      <a href='vscode-notebook-cell:/Users/tanguy.renaudie/Documents/TanguyWorkMines/ProjetsInfo/poisson-image-editing/poisson-image.ipynb#ch0000009?line=0'>1</a>\u001b[0m a123 \u001b[39m=\u001b[39m np\u001b[39m.\u001b[39marange(\u001b[39m10\u001b[39m)\u001b[39m.\u001b[39mreshape((\u001b[39m5\u001b[39m,\u001b[39m2\u001b[39m))\n\u001b[0;32m----> <a href='vscode-notebook-cell:/Users/tanguy.renaudie/Documents/TanguyWorkMines/ProjetsInfo/poisson-image-editing/poisson-image.ipynb#ch0000009?line=1'>2</a>\u001b[0m convert_array_2D_to_3D(a123)\n",
      "\u001b[1;32m/Users/tanguy.renaudie/Documents/TanguyWorkMines/ProjetsInfo/poisson-image-editing/poisson-image.ipynb Cell 11'\u001b[0m in \u001b[0;36mconvert_array_2D_to_3D\u001b[0;34m(A)\u001b[0m\n\u001b[1;32m     <a href='vscode-notebook-cell:/Users/tanguy.renaudie/Documents/TanguyWorkMines/ProjetsInfo/poisson-image-editing/poisson-image.ipynb#ch0000009?line=15'>16</a>\u001b[0m \u001b[39mdef\u001b[39;00m \u001b[39mconvert_array_2D_to_3D\u001b[39m(A:np\u001b[39m.\u001b[39mndarray):\n\u001b[1;32m     <a href='vscode-notebook-cell:/Users/tanguy.renaudie/Documents/TanguyWorkMines/ProjetsInfo/poisson-image-editing/poisson-image.ipynb#ch0000009?line=16'>17</a>\u001b[0m    arr \u001b[39m=\u001b[39m np\u001b[39m.\u001b[39mempty(shape \u001b[39m=\u001b[39m (\u001b[39m*\u001b[39mA\u001b[39m.\u001b[39mshape,\u001b[39m3\u001b[39m))\n\u001b[0;32m---> <a href='vscode-notebook-cell:/Users/tanguy.renaudie/Documents/TanguyWorkMines/ProjetsInfo/poisson-image-editing/poisson-image.ipynb#ch0000009?line=17'>18</a>\u001b[0m    arr[:] \u001b[39m=\u001b[39m A[:]\u001b[39m.\u001b[39mtolist()\u001b[39m*\u001b[39m\u001b[39m3\u001b[39m\n",
      "\u001b[0;31mValueError\u001b[0m: could not broadcast input array from shape (15,2) into shape (5,2,3)"
     ]
    }
   ],
   "source": [
    "a123 = np.arange(10).reshape((5,2))\n",
    "convert_array_2D_to_3D(a123)"
   ]
  },
  {
   "cell_type": "code",
   "execution_count": 46,
   "metadata": {},
   "outputs": [],
   "source": [
    "def lapA(m:int ,n:int):\n",
    "   \"\"\"Create laplacian operator matrix, without the boundary condition\n",
    "   Args:\n",
    "   m : int - height in pixels of D domain\n",
    "   n : int - width in pixels of D domain\"\"\"\n",
    "   D = np.eye(m) * -4\n",
    "   D[0:m-1,1:m]+= np.eye(m-1)\n",
    "   D[1:m,0:m-1]+= np.eye(m-1)\n",
    "   A = np.zeros(shape = (n*m,n*m) )\n",
    "   for k in range(n):\n",
    "      A[k*m: k*m+m, k*m: k*m+m] = D\n",
    "   return A\n",
    "\n",
    "\n",
    "\n"
   ]
  },
  {
   "cell_type": "code",
   "execution_count": 47,
   "metadata": {},
   "outputs": [],
   "source": [
    "def make_mask(m,n):\n",
    "   #The mask m will have the same shape as source, (and cropped target) ie D\n",
    "   #The mask m has a rectangular of 1s, inside a boundary of 0s\n",
    "   mask = np.ones(shape = (m,n))\n",
    "   mask[0] = 0\n",
    "   mask[-1] = 0\n",
    "   mask[:, 0] = 0\n",
    "   mask[:, -1] = 0\n",
    "\n",
    "   return mask.flatten('F')\n",
    "\n"
   ]
  },
  {
   "cell_type": "code",
   "execution_count": 48,
   "metadata": {},
   "outputs": [
    {
     "data": {
      "text/plain": [
       "' print(im3[:10,:10])\\nlapAfinal(4,4,im3[:4,:4]) '"
      ]
     },
     "execution_count": 48,
     "metadata": {},
     "output_type": "execute_result"
    }
   ],
   "source": [
    "def lapAfinal(m,n, mask):\n",
    "   A = lapA(m,n)\n",
    "   print(f\"{A.shape = }\")\n",
    "   print(f\"{mask.shape = }\")\n",
    "\n",
    "   logging.info(\"putting boundary coefs to 0\")\n",
    "   A[mask == 0] = 0\n",
    "   logging.info(\"adding ones on the diagonal\")\n",
    "   A[mask==0, mask==0] = 1\n",
    "   return A\n",
    "\n",
    "\"\"\" print(im3[:10,:10])\n",
    "lapAfinal(4,4,im3[:4,:4]) \"\"\"\n",
    "   "
   ]
  },
  {
   "cell_type": "code",
   "execution_count": 49,
   "metadata": {},
   "outputs": [],
   "source": [
    "#b has (DeltaChi on D, Phi on boundary)\n",
    "def make_b(m,n,source, target, mask):\n",
    "   assert(type(source) == np.ndarray and source.ndim == 1)\n",
    "   assert(type(target) == np.ndarray and target.ndim == 1)\n",
    "   print(\"building A\")\n",
    "   A = lapAfinal(m,n, mask)\n",
    "   print(\"A built\")\n",
    "\n",
    "   \n",
    "   logging.info(\"Calculating A @ source\")\n",
    "   print(f\"{A[mask].shape=}\")\n",
    "   print(f\"{source[mask].shape=}\")\n",
    "   b = A @ source\n",
    "   b[mask==0] = target[mask==0]\n",
    "   #Boundary condition b = target on the boundary\n",
    "\n",
    "   logging.info(\"Entering boundary data\")\n",
    "   return b\n",
    "   "
   ]
  },
  {
   "cell_type": "code",
   "execution_count": 58,
   "metadata": {},
   "outputs": [
    {
     "name": "stderr",
     "output_type": "stream",
     "text": [
      "MainThread - putting boundary coefs to 0\n",
      "MainThread - adding ones on the diagonal\n",
      "MainThread - Making b\n",
      "MainThread - putting boundary coefs to 0\n",
      "MainThread - adding ones on the diagonal\n",
      "MainThread - Calculating A @ source\n"
     ]
    },
    {
     "name": "stdout",
     "output_type": "stream",
     "text": [
      "target shape -> (10000,)\n",
      "source shape -> (10000,)\n",
      "A.shape = (10000, 10000)\n",
      "mask.shape = (10000,)\n",
      "building A\n",
      "A.shape = (10000, 10000)\n",
      "mask.shape = (10000,)\n",
      "A built\n"
     ]
    },
    {
     "name": "stderr",
     "output_type": "stream",
     "text": [
      "MainThread - Entering boundary data\n"
     ]
    },
    {
     "name": "stdout",
     "output_type": "stream",
     "text": [
      "A[mask].shape=(9504, 10000)\n",
      "source[mask].shape=(9504,)\n"
     ]
    },
    {
     "data": {
      "image/png": "[encoded data removed]",
      "text/plain": [
       "<Figure size 432x288 with 1 Axes>"
      ]
     },
     "metadata": {
      "needs_background": "light"
     },
     "output_type": "display_data"
    }
   ],
   "source": [
    "\n",
    "def solve():\n",
    "   source = Image.open(\"images/objects.jpeg\")\n",
    "   source_y,source_x = 1400,1600\n",
    "   source_width, source_height = 50,200\n",
    "   source = source.crop((source_x,source_y,source_x+source_width, source_y+source_height))\n",
    "   \n",
    "   \n",
    "   source.show() #grey background\n",
    "   #make target rectangle of the same size as source\n",
    "   target = Image.open(\"images/objects-final.jpeg\")\n",
    "   target_y,target_x =  1150,1900\n",
    "   target = target.crop((target_x,target_y, target_x+source_width, target_y+source_height))\n",
    "   target.show() #red piece\n",
    "   \n",
    "   source,target = target,source\n",
    "   m,n = source.size[1], source.size[0]\n",
    "   source = convert_image_2Dgrey_not_3D(source).flatten('F')\n",
    "   target = convert_image_2Dgrey_not_3D(target).flatten('F')\n",
    "   print(f\"target shape -> {target.shape}\")\n",
    "   print(f\"source shape -> {source.shape}\")      \n",
    "   mask = make_mask(m,n).astype(bool)\n",
    "   A = lapAfinal(m,n,mask)\n",
    "   logging.info(\"Making b\")\n",
    "   b = make_b(m,n,source,target,mask)\n",
    "   u = np.linalg.solve(A,b)\n",
    "   \n",
    "   u = u.reshape((m,n))\n",
    "\n",
    "   plt.imshow(u)\n",
    "\n",
    "\n",
    "\n",
    "solve()  "
   ]
  },
  {
   "cell_type": "code",
   "execution_count": null,
   "metadata": {},
   "outputs": [],
   "source": []
  },
  {
   "cell_type": "code",
   "execution_count": null,
   "metadata": {},
   "outputs": [],
   "source": []
  },
  {
   "cell_type": "code",
   "execution_count": null,
   "metadata": {},
   "outputs": [],
   "source": []
  }
 ],
 "metadata": {
  "interpreter": {
   "hash": "bb5baa5cce08aa3e4ae11dd7c934541657b9814ee708e112b9382392af854128"
  },
  "kernelspec": {
   "display_name": "Python 3 (ipykernel)",
   "language": "python",
   "name": "python3"
  },
  "language_info": {
   "codemirror_mode": {
    "name": "ipython",
    "version": 3
   },
   "file_extension": ".py",
   "mimetype": "text/x-python",
   "name": "python",
   "nbconvert_exporter": "python",
   "pygments_lexer": "ipython3",
   "version": "3.9.7"
  }
 },
 "nbformat": 4,
 "nbformat_minor": 2
}
