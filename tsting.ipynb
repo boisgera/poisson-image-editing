{
 "cells": [],
 "metadata": {
  "interpreter": {
   "hash": "bb5baa5cce08aa3e4ae11dd7c934541657b9814ee708e112b9382392af854128"
  },
  "kernelspec": {
   "display_name": "Python 3.9.12 ('rogue')",
   "language": "python",
   "name": "python3"
  },
  "language_info": {
   "codemirror_mode": {
    "name": "ipython",
    "version": 3
   },
   "file_extension": ".py",
   "mimetype": "text/x-python",
   "name": "python",
   "nbconvert_exporter": "python",
   "pygments_lexer": "ipython3",
   "version": "3.9.12"
  },
  "orig_nbformat": 4
 },
 "nbformat": 4,
 "nbformat_minor": 2
}
