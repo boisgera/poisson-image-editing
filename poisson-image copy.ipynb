{
 "cells": [
  {
   "cell_type": "markdown",
   "metadata": {},
   "source": [
    "Voici le notebook sur lequel nous allons expliquer la démarche derrière l'édition d'images. \n",
    "En reprenant les notations du document -- http://eul.ink/complex-analysis/Poisson%20Image%20Editing/ -- nous cherchons à résoudre:\n",
    "$$\\begin{align*}\n",
    "\\Delta \\psi &= \\Delta \\phi \\; sur \\; D\\\\\n",
    "\\psi_{|\\partial{D}} &= \\phi_{|\\partial{D}}\n",
    "\\end{align*}\n",
    "$$\n",
    "Discrétisons les fonctions proposées. On crée une grille avec $N = m*n$ points pour répresenter $D \\in \\mathbf{R}^2 $.\n",
    "Soient $\\{x_i, x_j, i \\in [1,m], j \\in [1,n]\\}$ décrivant cette grille, avec les pas $ h_x = x_{i+1} - x_i $, et  $ h_y = x_{j+1} - x_j $. Notons $h = max(h_x,h_y)$\n",
    "Puis on pose:\n",
    "$$\n",
    "u = \n",
    "\\begin{pmatrix}\n",
    "\\psi_{1,1}\\\\\n",
    "\\psi_{2,1}\\\\\n",
    "\\vdots\\\\\n",
    "\\psi_{m,1}\\\\\n",
    "\\psi_{1,2}\\\\\n",
    "\\psi_{2,2}\\\\\n",
    "\\vdots\\\\\n",
    "\\psi_{m,2}\\\\\n",
    "\\vdots\\\\\n",
    "\\psi_{1,n}\\\\\n",
    "\\vdots\\\\\n",
    "\\psi_{m,n}\\\\\n",
    "\\end{pmatrix} \\in \\mathbf{R}^{N}\n",
    "$$\n",
    "u est le vecteur que l'on cherche à déterminer\n",
    "On pose de la même manière:\n",
    "$$t = \n",
    "\\begin{pmatrix}\n",
    "\\phi_{1,1}\\\\\n",
    "\\phi_{2,1}\\\\\n",
    "\\vdots\\\\\n",
    "\\phi_{m,1}\\\\\n",
    "\\phi_{1,2}\\\\\n",
    "\\phi_{2,2}\\\\\n",
    "\\vdots\\\\\n",
    "\\phi_{m,2}\\\\\n",
    "\\vdots\\\\\n",
    "\\phi_{1,n}\\\\\n",
    "\\vdots\\\\\n",
    "\\phi_{m,n}\\\\\n",
    "\\end{pmatrix} \\in \\mathbf{R}^{N}\n",
    "$$\n",
    "Enfin, on explicite l'opérateur Laplacien: \n",
    "Lorsque la discrétisation est assez fine, pour une fonction deux fois différentiable u, \n",
    "$$\\begin{align}\n",
    "\\Delta \\psi(x_i,x_j) &= \\frac{\\partial^2 \\psi}{\\partial x^2}(x_i,x_j)+\\frac{\\partial^2 \\psi}{\\partial y^2}(x_i,x_j)\n",
    "\\end{align}\n",
    "$$\n",
    "Or, pour une fonction f quelconque, on a les approximations suivantes\n",
    "\n",
    "$$\\begin{align*}\n",
    "f(x_{i+1}) &= f(x_{i}) + f'(x_{i})h + f''(x_i)\\frac{h^2}{2} + O(h^4) \\\\\n",
    "f(x_{i-1}) &= f(x_{i}) - f'(x_{i})h + f''(x_i)\\frac{h^2}{2} + O(h^4) \\\\\n",
    "\\end{align*}\n",
    "$$\n",
    "Ie: \n",
    "$$\\begin{align*}\n",
    "f(x_{i+1}) + f(x_{i-1}) &= 2f(x_{i}) +  f''(x_i)h^2 + O(h^2) \\\\\n",
    "\\frac{f(x_{i+1}) + f(x_{i-1}) - 2f(x_{i}) }{h^2} &= f''(x_i) + O(h^2)\\\\\n",
    "\\end{align*}\n",
    "$$\n",
    "Puis enfin, en 2D, pour la fonction Psi par exemple: \n",
    "$$\\begin{align*}\n",
    "\\frac{\\psi(x_{i+1,j}) + \\psi(x_{i-1,j})+\\psi(x_{i,j+1}) + \\psi(x_{i,j-1}) - 4\\psi(x_{i,j})}{h^2} &= \\Delta \\psi(x_{i,j}) + O(h^2)\\\\\n",
    "\\end{align*}\n",
    "$$\n",
    "On va donc résoudre, en pratique \n",
    "$$\\begin{align*}\n",
    "A \\mathbf{u} &= A \\mathbf{t} \\; sur \\; D\\\\\n",
    "\\mathbf{u}_{|\\partial{D}} &= \\mathbf{t}_{|\\partial{D}}\n",
    "\\end{align*}\n",
    "$$\n",
    "A est l'opérateur laplacien: \n",
    "$$ \n",
    "A = \n",
    "\\begin{pmatrix}\n",
    "-4 & 1 & & & &  1 & & & & & & & & &  & & & & & \\\\\n",
    "1 & -4 & 1  & & &  & 1 & & & &  & & & &  &  & & & & \\\\\n",
    " &\\ddots & \\ddots & & &  &  &\\ddots & & &  &  & & &  &  & & & & \\\\\n",
    " & & 1 & -4 & &  &  & & 1  & &  &  & & &  &  & & & & \\\\\n",
    "1&  & & & &  -4 & 1 & & & & 1 & & & &  & & & & & \\\\\n",
    " & 1 & & & &  1 & -4 & 1 & & &  & 1 & & &  & & & & & \\\\\n",
    " &  & \\ddots & & &   & \\ddots & \\ddots & & &  &  &\\ddots & &  & & & & & \\\\\n",
    " &  &  & 1 & &   &  & 1 & -4& &  &  & & 1 &  & & & & & \\\\\n",
    "  &  &  &  & &   &  &  & \\ddots& &  &  & &  &  & & & & & \\\\\n",
    "   &  &  &  & &   &  &  & & \\ddots &  &  & &  &  & & & & & \\\\\n",
    "\\end{pmatrix} \\in \\mathbf{R}^{N*N}\n",
    "$$\n",
    "Notons \n",
    "$$ \n",
    "D = \n",
    "\\begin{pmatrix}\n",
    "-4 & 1 & & & &\\\\\n",
    "1 & -4 & 1 & & &\\\\\n",
    " & \\ddots & \\ddots & \\ddots& &\\\\\n",
    "  & & \\ddots & \\ddots&  1 & \\\\\n",
    "    & & & 1 &  -4 & \\\\\n",
    "\\end{pmatrix} \\in \\mathbf{R}^{m*m}\n",
    "$$\n",
    "Et notons\n",
    "$$ \n",
    "I = \n",
    "\\begin{pmatrix}\n",
    "1 & & & &\\\\\n",
    "& 1 &  & &\\\\\n",
    " & & \\ddots &\\\\\n",
    " & & &  1\\\\\n",
    "\\end{pmatrix} \\in \\mathbf{R}^{m*m}\n",
    "$$\n",
    "Alors A est une matrice par blocs, composée par les blocs $D$ et $I$: \n",
    "$$ \n",
    "A = \\begin{pmatrix}\n",
    "D & I & & & &\\\\\n",
    "I &D& I & & &\\\\\n",
    " & \\ddots & \\ddots & \\ddots& &\\\\\n",
    "  & & \\ddots & \\ddots&  I & \\\\\n",
    "    & & & I &  D & \\\\\n",
    "\\end{pmatrix} \\in \\mathbf{R}^{N*N}\n",
    "$$\n",
    "Il faut maintenant prendre en compte la contrainte sur les bords\n",
    "$$\\psi_{|\\partial{D}} = \\phi_{|\\partial{D}} $$\n",
    "Pour tout indice d'ordre lexicographique $ k = i*m + j $ désignant un point $u_k = \\psi_{x_i,x_j} $ tel que $u_k \\in \\partial{D}$, on va imposer la contrainte:\n",
    "$$ \\begin{align*}\n",
    "\\forall l \\;!= \\;j,\\; a_{i*m+l} &= 0 \\\\\n",
    "a_{k} = 1\n",
    "\\end{align*}\n",
    "$$\n",
    "Ceci empêche la matrice d'être symétrique puisqu'elle ressemble alors à:\n",
    "$$A = \\begin{pmatrix}\n",
    "I &   & & & &\\\\\n",
    "I' &D'& I' & & &\\\\\n",
    " & \\ddots & \\ddots & \\ddots& &\\\\\n",
    "  & & \\ddots & \\ddots&  I' & \\\\\n",
    "    & & &  &  I & \\\\\n",
    "\\end{pmatrix} \\in \\mathbf{R}^{N*N}\n",
    "$$\n",
    "Si elle n'est pas inversible, nous pourrons toujours ajouter les termes qui manquent pour la rendre symétrique, et éventuellement ajouter un facteur à la matrice identité pour imposer la contrainte"
   ]
  },
  {
   "cell_type": "markdown",
   "metadata": {},
   "source": [
    "TO DO:\n",
    "* make mask function\n",
    "* make laplacian function\n",
    "*\n"
   ]
  },
  {
   "cell_type": "markdown",
   "metadata": {},
   "source": [
    "from PIL import image\n",
    "import numpy as np"
   ]
  },
  {
   "cell_type": "code",
   "execution_count": 2,
   "metadata": {},
   "outputs": [],
   "source": [
    "from PIL import Image\n",
    "import numpy as np\n",
    "import matplotlib.pyplot as plt"
   ]
  },
  {
   "cell_type": "code",
   "execution_count": 3,
   "metadata": {},
   "outputs": [],
   "source": [
    "\n",
    "def convert_image_2Dgrey_not_3D(url, img):\n",
    "   \"\"\"Takes an image url (in 3D because RGB values), and returns the corresponding 2D grey image\"\"\"\n",
    "   if not img:\n",
    "      img = Image.open(\"images/objects-final.jpeg\")\n",
    "   im2 = np.array(img.getdata())\n",
    "   im2[:] = im2.mean(axis = 1).reshape((-1,1))\n",
    "   im2 = im2.reshape((img.height, img.width, 3))\n",
    "   plt.imshow(im2)\n",
    "   return im2.mean(axis =  2)\n",
    "#make_image_2D_not_3D(\"image/objects.jpeg\")\n",
    "\n",
    "def convert_image_to_array3D(img:Image.Image):\n",
    "   return np.array(img.getdata()).reshape((img.height,img.width,3))\n",
    "\n",
    "def show_image(img):\n",
    "   plt.imshow(np.array(img.getdata()).reshape((img.height,img.width,3)))\n"
   ]
  },
  {
   "cell_type": "code",
   "execution_count": 4,
   "metadata": {},
   "outputs": [],
   "source": [
    "def lapA(m:int ,n:int):\n",
    "   \"\"\"Create laplacian operator matrix, without the boundary condition\n",
    "   Args:\n",
    "   m : int - height in pixels of D domain\n",
    "   n : int - width in pixels of D domain\"\"\"\n",
    "   D = np.eye(m) * -4\n",
    "   D[0:m-1,1:m]+= np.eye(m-1)\n",
    "   D[1:m,0:m-1]+= np.eye(m-1)\n",
    "   A = np.zeros(shape = (n*m,n*m) )\n",
    "   for k in range(n):\n",
    "      A[k*m: k*m+m, k*m: k*m+m] = D\n",
    "   return A\n",
    "\n",
    "\n",
    "\n"
   ]
  },
  {
   "cell_type": "code",
   "execution_count": 15,
   "metadata": {},
   "outputs": [],
   "source": [
    "def make_mask(source,target,source_x,source_y):\n",
    "   if(type(source) == Image.Image): #convert to array\n",
    "      source_arr = convert_image_2Dgrey_not_3D(None,source)\n",
    "      assert(type(source_arr) == np.ndarray)\n",
    "      assert(source_arr.ndim == 2)\n",
    "   else:\n",
    "      source_arr = source\n",
    "   if(type(target) != np.ndarray): #convert to array\n",
    "      target_arr = convert_image_2Dgrey_not_3D(None,target)\n",
    "      assert(type(target_arr) == np.ndarray)\n",
    "      assert(target_arr.ndim == 2)\n",
    "   else:\n",
    "      target_arr = target\n",
    "\n",
    "\n",
    "   #The mask m will have the same shape as target\n",
    "   #The mask m has a rectangular of 1s, inside a boundary of 0s\n",
    "   m = np.zeros(shape = target_arr.shape)\n",
    "   m[source_y] = 0\n",
    "   m[source_y+source_arr.shape[0]] = 0\n",
    "   m[:,source_x] = 0\n",
    "   m[: source_x+source_arr.shape[1]] = 0\n",
    "\n",
    "   return m\n",
    "\n"
   ]
  },
  {
   "cell_type": "code",
   "execution_count": 13,
   "metadata": {},
   "outputs": [
    {
     "data": {
      "text/plain": [
       "' print(im3[:10,:10])\\nlapAfinal(4,4,im3[:4,:4]) '"
      ]
     },
     "execution_count": 13,
     "metadata": {},
     "output_type": "execute_result"
    }
   ],
   "source": [
    "def lapAfinal(m,n,source, mask):\n",
    "   A = lapA(m,n)\n",
    "   mask_ = mask.copy()\n",
    "   A[mask_==0] = 0\n",
    "   A[mask_==0, mask_==0] = 1\n",
    "   return A\n",
    "\n",
    "\"\"\" print(im3[:10,:10])\n",
    "lapAfinal(4,4,im3[:4,:4]) \"\"\"\n",
    "   "
   ]
  },
  {
   "cell_type": "code",
   "execution_count": 14,
   "metadata": {},
   "outputs": [],
   "source": [
    "#b has (DeltaChi on D, Phi on boundary)\n",
    "def make_b(m,n,source, target, m1,m2):\n",
    "\n",
    "   chi =  convert_image_2Dgrey_not_3D(url = None, img = source)\n",
    "   print(chi.shape)\n",
    "   print(\"building A\")\n",
    "   A = lapAfinal(m,n,source, mask)\n",
    "   print(\"A built\")\n",
    "   print(f\"{A.shape=}\")\n",
    "   print(f\"{chi.shape=}\")\n",
    "   b = A @ chi\n",
    "   #Boundary condition b = target on the boundary\n",
    "   b[m == 0] = target[m==0]\n",
    "   print(b)\n",
    "   return b\n",
    "   "
   ]
  },
  {
   "cell_type": "code",
   "execution_count": 22,
   "metadata": {},
   "outputs": [
    {
     "name": "stdout",
     "output_type": "stream",
     "text": [
      "target size -> (900, 500)\n",
      "source size -> (900, 500)\n"
     ]
    },
    {
     "ename": "TypeError",
     "evalue": "'int' object is not subscriptable",
     "output_type": "error",
     "traceback": [
      "\u001b[0;31m---------------------------------------------------------------------------\u001b[0m",
      "\u001b[0;31mTypeError\u001b[0m                                 Traceback (most recent call last)",
      "\u001b[1;32m/Users/tanguy.renaudie/Documents/TanguyWorkMines/ProjetsInfo/poisson-image-editing/poisson-image.ipynb Cell 10'\u001b[0m in \u001b[0;36m<cell line: 28>\u001b[0;34m()\u001b[0m\n\u001b[1;32m     <a href='vscode-notebook-cell:/Users/tanguy.renaudie/Documents/TanguyWorkMines/ProjetsInfo/poisson-image-editing/poisson-image.ipynb#ch0000010?line=22'>23</a>\u001b[0m    m \u001b[39m=\u001b[39m make_mask(source,target,source_x,source_y)\n\u001b[1;32m     <a href='vscode-notebook-cell:/Users/tanguy.renaudie/Documents/TanguyWorkMines/ProjetsInfo/poisson-image-editing/poisson-image.ipynb#ch0000010?line=23'>24</a>\u001b[0m    b \u001b[39m=\u001b[39m make_b(m,n,source,target,m)\n\u001b[0;32m---> <a href='vscode-notebook-cell:/Users/tanguy.renaudie/Documents/TanguyWorkMines/ProjetsInfo/poisson-image-editing/poisson-image.ipynb#ch0000010?line=27'>28</a>\u001b[0m solve()\n",
      "\u001b[1;32m/Users/tanguy.renaudie/Documents/TanguyWorkMines/ProjetsInfo/poisson-image-editing/poisson-image.ipynb Cell 10'\u001b[0m in \u001b[0;36msolve\u001b[0;34m()\u001b[0m\n\u001b[1;32m     <a href='vscode-notebook-cell:/Users/tanguy.renaudie/Documents/TanguyWorkMines/ProjetsInfo/poisson-image-editing/poisson-image.ipynb#ch0000010?line=19'>20</a>\u001b[0m source \u001b[39m=\u001b[39m convert_image_2Dgrey_not_3D(\u001b[39mNone\u001b[39;00m, source)\n\u001b[1;32m     <a href='vscode-notebook-cell:/Users/tanguy.renaudie/Documents/TanguyWorkMines/ProjetsInfo/poisson-image-editing/poisson-image.ipynb#ch0000010?line=20'>21</a>\u001b[0m target \u001b[39m=\u001b[39m convert_image_2Dgrey_not_3D(\u001b[39mNone\u001b[39;00m, target)\n\u001b[0;32m---> <a href='vscode-notebook-cell:/Users/tanguy.renaudie/Documents/TanguyWorkMines/ProjetsInfo/poisson-image-editing/poisson-image.ipynb#ch0000010?line=21'>22</a>\u001b[0m m,n \u001b[39m=\u001b[39m source\u001b[39m.\u001b[39;49msize[\u001b[39m1\u001b[39;49m], source\u001b[39m.\u001b[39msize[\u001b[39m0\u001b[39m]\n\u001b[1;32m     <a href='vscode-notebook-cell:/Users/tanguy.renaudie/Documents/TanguyWorkMines/ProjetsInfo/poisson-image-editing/poisson-image.ipynb#ch0000010?line=22'>23</a>\u001b[0m m \u001b[39m=\u001b[39m make_mask(source,target,source_x,source_y)\n\u001b[1;32m     <a href='vscode-notebook-cell:/Users/tanguy.renaudie/Documents/TanguyWorkMines/ProjetsInfo/poisson-image-editing/poisson-image.ipynb#ch0000010?line=23'>24</a>\u001b[0m b \u001b[39m=\u001b[39m make_b(m,n,source,target,m)\n",
      "\u001b[0;31mTypeError\u001b[0m: 'int' object is not subscriptable"
     ]
    },
    {
     "data": {
      "image/png": "[encoded data removed]",
      "text/plain": [
       "<Figure size 432x288 with 1 Axes>"
      ]
     },
     "metadata": {
      "needs_background": "light"
     },
     "output_type": "display_data"
    }
   ],
   "source": [
    "\n",
    "def solve():\n",
    "   source = Image.open(\"images/objects.jpeg\")\n",
    "   source_y,source_x = 1400,1600\n",
    "   source_width, source_height = 500,900\n",
    "   source = source.crop((source_x,source_y,source_x+source_width, source_y+source_height))\n",
    "   #show_image(source)\n",
    "   \n",
    "   #make target rectangle of the same size as source\n",
    "   target = Image.open(\"images/objects-final.jpeg\")\n",
    "   target_y,target_x =  1400,1080\n",
    "   target = target.crop((target_x,target_y, target_x+source_width, target_y+source_height))\n",
    "\n",
    "   target.show()\n",
    "   source.show()\n",
    "\n",
    "   \n",
    "   print(f\"target size -> {target.size[1],target.size[0]}\")\n",
    "   print(f\"source size -> {source.size[1], source.size[0]}\")\n",
    "\n",
    "   source = convert_image_2Dgrey_not_3D(None, source)\n",
    "   target = convert_image_2Dgrey_not_3D(None, target)\n",
    "   m,n = source.size[1], source.size[0]\n",
    "   m = make_mask(source,target,source_x,source_y)\n",
    "   b = make_b(m,n,source,target,m)\n",
    "   \n",
    "\n",
    "\n",
    "solve()  "
   ]
  },
  {
   "cell_type": "code",
   "execution_count": null,
   "metadata": {},
   "outputs": [
    {
     "data": {
      "text/plain": [
       "2"
      ]
     },
     "execution_count": 1,
     "metadata": {},
     "output_type": "execute_result"
    }
   ],
   "source": [
    "1+1"
   ]
  },
  {
   "cell_type": "code",
   "execution_count": null,
   "metadata": {},
   "outputs": [],
   "source": []
  },
  {
   "cell_type": "code",
   "execution_count": null,
   "metadata": {},
   "outputs": [],
   "source": []
  }
 ],
 "metadata": {
  "interpreter": {
   "hash": "bb5baa5cce08aa3e4ae11dd7c934541657b9814ee708e112b9382392af854128"
  },
  "kernelspec": {
   "display_name": "Python 3.9.7 ('rogue')",
   "language": "python",
   "name": "python3"
  },
  "language_info": {
   "codemirror_mode": {
    "name": "ipython",
    "version": 3
   },
   "file_extension": ".py",
   "mimetype": "text/x-python",
   "name": "python",
   "nbconvert_exporter": "python",
   "pygments_lexer": "ipython3",
   "version": "3.9.7"
  },
  "orig_nbformat": 4
 },
 "nbformat": 4,
 "nbformat_minor": 2
}
